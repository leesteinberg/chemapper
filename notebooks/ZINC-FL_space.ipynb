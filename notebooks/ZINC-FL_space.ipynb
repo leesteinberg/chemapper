{
 "cells": [
  {
   "cell_type": "markdown",
   "metadata": {},
   "source": [
    "# The ZINC.FL Chemical Space\n",
    "\n",
    "## Introduction\n",
    "\n",
    "Here we will use the Mapper algorithm to understand the chemical space of the ZINC.FL chemical library. This library consists of the _fragrance like_ molecules of the ZINC database [[1,2](#references)].\n",
    "\n",
    "<a id='references'>\n",
    "## References\n",
    "</a>\n",
    "[1] Irwin, J.J., Sterling, T., Mysinger, M.M., Bolstad, E.S., Coleman, R.G. -- Zinc: A Free Tool to Discover Chemistry for Biology, _J. Chem. Inf. Model._, __2012__, 52, 1757-1768 <br>\n",
    "[2] Zinc Database can be found at: [Zinc](http://zinc.docking.org) <br>"
   ]
  },
  {
   "cell_type": "code",
   "execution_count": null,
   "metadata": {},
   "outputs": [],
   "source": []
  }
 ],
 "metadata": {
  "kernelspec": {
   "display_name": "Python 2",
   "language": "python",
   "name": "python2"
  },
  "language_info": {
   "codemirror_mode": {
    "name": "ipython",
    "version": 2
   },
   "file_extension": ".py",
   "mimetype": "text/x-python",
   "name": "python",
   "nbconvert_exporter": "python",
   "pygments_lexer": "ipython2",
   "version": "2.7.14"
  }
 },
 "nbformat": 4,
 "nbformat_minor": 2
}
