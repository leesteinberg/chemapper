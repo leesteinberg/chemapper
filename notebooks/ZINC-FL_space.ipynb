{
 "cells": [
  {
   "cell_type": "code",
   "execution_count": 3,
   "metadata": {
    "collapsed": true
   },
   "outputs": [],
   "source": [
    "# Add scripts to path\n",
    "import sys\n",
    "sys.path.append('../scripts/')"
   ]
  },
  {
   "cell_type": "markdown",
   "metadata": {},
   "source": [
    "# The ZINC.FL Chemical Space\n",
    "\n",
    "## Introduction\n",
    "\n",
    "Here we will use the Mapper algorithm to understand the chemical space of the ZINC.FL chemical library. This library consists of the _fragrance-like_ molecules of the ZINC database [[1,2](#references)]. A fragrance-like molecule is defined as one where:\n",
    "\n",
    "1. Heavy Atom Count $<$ 21\n",
    "2. Only C, H, O, S atoms\n",
    "3. Number of Oxygens + Number of Sulphurs $\\leq$ 3\n",
    "4. Number of H-bond donors $\\leq$ 1\n",
    "\n",
    "The resulting subset, ZINC.FL, was developed in 2014, and can be found at [[3](#references)]. It consists of 37,661 molecules.\n",
    "\n",
    "## Loading in Data\n",
    "We have the structures in SMILES form [[3](#references)]. This is a many-to-one mapping from strings to molecular graphs (defined on the domain of this data set, we know this map is bijective). We load in the SMILES strings directly. The data is stored in `data/ZINC.FL.smi`, and consists of the SMILES strings and database identifiers.\n",
    "\n",
    "<a id='references'>\n",
    "## References\n",
    "</a><br>\n",
    "[1] Irwin, J.J., Sterling, T., Mysinger, M.M., Bolstad, E.S., Coleman, R.G. -- Zinc: A Free Tool to Discover Chemistry for Biology, _J. Chem. Inf. Model._, __2012__, 52, 1757-1768 <br>\n",
    "[2] Zinc Database can be found at: [Zinc](http://zinc.docking.org) <br>\n",
    "[3] Ruddigkeit, L., Awale, M., Reymond, J., Expanding the fragrance chemical space for virtual screening, _Journal of Cheminformatics_, __2014__, 6 <br>\n",
    "[4] Morgan, H.: The Generation of a Unique Machine Description for Chemical Structures-A Technique Developed at Chemical Abstracts Service, _Journal of Chemical Documentation_, __1965__, 5, 107-113 <br>\n",
    "[5] Rogers, D., Hahn, M.: Extended Connectivity Fingerprints, _J. Chem. Inf. Model_, __2010__, 50, 742-752 <br>\n",
    "[6] Wildman, S.A., Crippen, G.M.: Prediction of Physicochemical Parameters by Atomic Contributions, _J. Chem. Inf. Comput. Sci._, __1999__ 35, 868-873<br>\n",
    "[7] Bertz, S.: The first general index of molecular complexity, _J. Am. Chem. Soc._, __1981__, 103, 3599-3601 <br>\n",
    "[8] Landrum, G.: [RDKit: Open-Source Cheminformatics](http://rdkit.org) <br>\n",
    "[9] Baldi, P., Nasr, R.: When is Chemical Similarity Significant?..., _J. Chem. Inf. Model._, __2011__, 50, 1205-1222 <br>"
   ]
  },
  {
   "cell_type": "code",
   "execution_count": 1,
   "metadata": {
    "collapsed": true
   },
   "outputs": [],
   "source": [
    "import pandas as pd\n",
    "\n",
    "ZINC_FL = pd.read_csv('../data/ZINC.FL/ZINC.FL.smi', sep=' ', header=0, names=['SMILES', 'DB_ID'])\n",
    "\n",
    "n_molecules = len(ZINC_FL)"
   ]
  },
  {
   "cell_type": "markdown",
   "metadata": {},
   "source": [
    "## Calculation of Fingerprints and Descriptors\n",
    "\n",
    "In this work, our chemical space of interest is that defined by the Morgan fingerprints [[4](#references)]. In practice, this is similar to the commonly used ECFP fingerprints [[5](#references)]. For this work, we will use a radius of $2$ (similar to the ECFP4 class of fingerprint).\n",
    "\n",
    "We use the fingerprint representation of our molecules as it induces an easy-to-calculate metric between them. The fingerprints are binary strings, and therefore we define the Tanimoto (Jaccard) similarity $T(A,B)$, and its associated distance $d(A,B)$ in the usual way:\n",
    "\n",
    "$T(A,B) = \\frac{A\\bigcap B}{A\\bigcup B}$ and $d(A,B) = 1-T(A,B)$\n",
    "\n",
    "We will also calculate some basic molecular descriptors. We want these properties to be determined entirely from the molecular graph, and to therefore be independent of conformation and stereoisomerism. These properties are as follows:\n",
    "\n",
    "1. `n_atom`: The number of (non-hydrogen) atoms\n",
    "2. `n_ring`: The number of rings\n",
    "3. `n_aro`: The number of aromatic rings\n",
    "4. `n_rot`: The number of rotatable bonds\n",
    "    1. We are strict in our defition of a rotatable bond here.\n",
    "5. `MW`: The molecular weight\n",
    "6. `LogP`: The octanol-water partition coefficient\n",
    "    1. This is calculated using the Atom-based scheme found in [[6](#references)]\n",
    "7. `Bertz`: The Bertz coefficient\n",
    "    1. This is meant to quantify molecular complexity, more details in [[7](#references)]. \n",
    "8. `n_O`: Number of Oxygen atoms\n",
    "9. `n_S`: Number of Sulphur atoms\n",
    "10. `n_P`: Number of Phosphorus atoms\n",
    "\n",
    "\n",
    "The fingerprint and descriptors are all calculated using the RDKit library [[8](#references)]"
   ]
  },
  {
   "cell_type": "code",
   "execution_count": 2,
   "metadata": {
    "collapsed": true
   },
   "outputs": [],
   "source": [
    "import numpy as np\n",
    "from rdkit.Chem.rdMolDescriptors import CalcNumRings, CalcNumAromaticRings, CalcNumRotatableBonds\n",
    "from rdkit.Chem.rdMolDescriptors import CalcExactMolWt, GetMorganFingerprintAsBitVect, NumRotatableBondsOptions\n",
    "from rdkit.Chem.Crippen import MolLogP\n",
    "from rdkit.Chem.GraphDescriptors import BertzCT\n",
    "from rdkit.Chem import MolFromSmiles\n",
    "from rdkit import DataStructs\n",
    "from ipywidgets import FloatProgress, HBox, Label\n",
    "from IPython.display import display\n",
    "\n",
    "def findCounts(s, ch):\n",
    "    # Find number of times an element is in a smiles string. \n",
    "    # v.v. basic - Works for S, O, P etc, when we know nothing weird will be present\n",
    "    # ignores aromaticity - always search for an uppercase string\n",
    "    return len([letter for letter in s if letter.upper() == ch])\n",
    "\n",
    "# Set up array to put fingerprints into\n",
    "nBits = 512\n",
    "useFeatures = False # Set this to true if we want to create fingerprints analogous to FCFP rather than ECFP\n",
    "r = 2\n",
    "fp_arr = np.zeros((n_molecules, nBits))\n",
    "\n",
    "# Set up array to put descriptors into\n",
    "desc_names = ['n_atom', 'n_ring', 'n_aro', 'n_rot', 'MW', 'LogP', 'Bertz', 'n_O', 'n_S', 'n_P']\n",
    "n_descs = len(desc_names)\n",
    "desc_arr = np.zeros((n_molecules, n_descs))\n",
    "strictness = NumRotatableBondsOptions.StrictLinkages\n",
    "\n",
    "# Set up progress bar\n",
    "progressbar = FloatProgress(min=0, max=n_molecules, bar_style='success')\n",
    "progressbox = HBox([Label('Calculation Progress'), progressbar])\n",
    "display(progressbox)\n",
    "\n",
    "for smiles_i, smiles in enumerate(ZINC_FL['SMILES']):\n",
    "    \n",
    "    # Create Molecule Object\n",
    "    molecule = MolFromSmiles(smiles)\n",
    "    \n",
    "    ### Descriptor calculation\n",
    "    desc_arr[smiles_i, 0] = molecule.GetNumHeavyAtoms()\n",
    "    desc_arr[smiles_i, 1] = CalcNumRings(molecule)\n",
    "    desc_arr[smiles_i, 2] = CalcNumAromaticRings(molecule)\n",
    "    desc_arr[smiles_i, 3] = CalcNumRotatableBonds(molecule, strict=strictness)\n",
    "    desc_arr[smiles_i, 4] = CalcExactMolWt(molecule)\n",
    "    desc_arr[smiles_i, 5] = MolLogP(molecule)\n",
    "    desc_arr[smiles_i, 6] = BertzCT(molecule)\n",
    "    desc_arr[smiles_i, 7] = findCounts(smiles, 'O') \n",
    "    desc_arr[smiles_i, 8] = findCounts(smiles, 'S')\n",
    "    desc_arr[smiles_i, 9] = findCounts(smiles, 'P')\n",
    "    \n",
    "    \n",
    "    ### Fingerprint calculation\n",
    "    fingerprint = GetMorganFingerprintAsBitVect(molecule, r, nBits=nBits, useFeatures=useFeatures)\n",
    "    \n",
    "    #Put it into the fingerprint array\n",
    "    arr = np.zeros((1,nBits),dtype='bool')\n",
    "    DataStructs.ConvertToNumpyArray(fingerprint,arr)\n",
    "    fp_arr[smiles_i] = arr\n",
    "    \n",
    "    # Tick up progressbar\n",
    "    progressbar.value += 1"
   ]
  },
  {
   "cell_type": "markdown",
   "metadata": {},
   "source": [
    "### Creation of Image Tooltips\n",
    "\n",
    "One of the features of KeplerMapper is the potential to use images as tooltips for the Cluster Details pane. Using RDKit, we are able to create images of the skeletal structures of the molecules. We will use these as tooltips.\n",
    "\n",
    "> Using these tooltips causes the size of the output `.html` file to increase dramatically. It is therefore suggested that these tooltips are not used in every network visualisation."
   ]
  },
  {
   "cell_type": "code",
   "execution_count": 4,
   "metadata": {
    "collapsed": true
   },
   "outputs": [],
   "source": [
    "from rdkit.Chem import Draw\n",
    "import io\n",
    "import base64\n",
    "import numpy as np\n",
    "from scipy.misc import toimage, imsave, imresize\n",
    "\n",
    "### THIS FUNCTION TECHNICALLY APPEARS IN SCRIPTS --- We put it here in full.\n",
    "\n",
    "def smi2image(smiles, size=300):\n",
    "    \"\"\"Turn a smiles string into an image\"\"\"\n",
    "    molecule = MolFromSmiles(smiles)\n",
    "    return Draw.MolToImage(molecule, size=[size,size])\n",
    "\n",
    "# Set up progress bar\n",
    "progressbar = FloatProgress(min=0, max=n_molecules, bar_style='success')\n",
    "progressbox = HBox([Label('Calculation Progress'), progressbar])\n",
    "display(progressbox)\n",
    "\n",
    "tooltips = []\n",
    "for smiles_i, smiles in enumerate(ZINC_FL['SMILES']):\n",
    "    output = io.BytesIO()\n",
    "    img = toimage(smi2image(smiles))\n",
    "    img.save(output, format='PNG')\n",
    "    contents = output.getvalue()\n",
    "    img_encoded = base64.b64encode(contents)\n",
    "    img_tag = \"\"\"<p>\n",
    "                 <div style=\"width:300px;\n",
    "                            height:300px;\n",
    "                            overflow:hidden;\n",
    "                            float:left;\n",
    "                            position:relative;\">\n",
    "                 <img src=\"data:image/png;base64,%s\" style=\"position:absolute; top:0; right:0;\n",
    "                                                            width: 300px; height: 300px;\" />\n",
    "                 </div>\n",
    "                 </p>\"\"\" % (img_encoded.decode('utf-8'))\n",
    "    tooltips.append(img_tag)\n",
    "    progressbar.value += 1\n",
    "tooltips = np.array(tooltips)"
   ]
  },
  {
   "cell_type": "markdown",
   "metadata": {},
   "source": [
    "## Distribution of Tanimoto distances\n",
    "\n",
    "When using the DBScan algorithm, the parameter `eps` defines the maximum distance between two samples for them to be considered as in the same neighborhood. If this parameter is set too high, the consequence for the mapper algorithm is that each patch within the cover is one cluster. Therefore, it is useful to know the distribution of the Tanimoto distance between molecules, to choose a sensible value for `eps`.\n",
    "\n",
    "For this dataset, it is impractical to calculate the pairwise distance for all pairs of molecules. Therefore, we will select a molecule at random, and compute its distance to all other molecules in the set. We will do this several times, and spot patterns.\n",
    "\n",
    "In general, a good article discussing this can be found in [[9](#references)]"
   ]
  },
  {
   "cell_type": "code",
   "execution_count": null,
   "metadata": {
    "collapsed": true
   },
   "outputs": [],
   "source": [
    "import matplotlib.pyplot as plt\n",
    "%matplotlib inline\n",
    "import seaborn as sns\n",
    "sns.set()\n",
    "from sklearn.metrics.pairwise import pairwise_distances\n",
    "import warnings\n",
    "warnings.filterwarnings(action='ignore')\n",
    "\n",
    "n_samples = 30\n",
    "\n",
    "molecule_indices = np.arange(n_molecules)\n",
    "\n",
    "# Plotting objects\n",
    "hist = plt.figure()\n",
    "histax = hist.add_subplot(111)\n",
    "cumsum = plt.figure()\n",
    "cumsumax = cumsum.add_subplot(111)\n",
    "\n",
    "np.random.seed(42)\n",
    "for sample_n in range(n_samples):\n",
    "    choice_molecule = np.random.choice(molecule_indices)\n",
    "    mask = np.ones(n_molecules, dtype=bool)\n",
    "    mask[choice_molecule] = False\n",
    "    distances = pairwise_distances(fp_arr[choice_molecule].reshape(1,-1), fp_arr[mask], metric='jaccard')\n",
    "    histvals = histax.hist(distances.flatten(), bins=100, normed=False, alpha=0.5)\n",
    "    \n",
    "    cumsumvals = histvals[0].cumsum()\n",
    "    cumsumax.plot(histvals[1][1:],cumsumvals, alpha=0.5)\n",
    "\n",
    "n_nearest_cutoff = 100\n",
    "cumsumax.set_ylim([0,n_nearest_cutoff])\n",
    "cumsumax.set_xlabel('Tanimoto Distance')\n",
    "cumsumax.set_ylabel('Number of Molecules less than Distance')\n",
    "# cumsumax.legend(labels=np.arange(1,sample_n+1, dtype=int))\n",
    "histax.set_xlabel('Tanimoto Distance')\n",
    "histax.set_ylabel('Number of Molecules')\n",
    "plt.show()"
   ]
  },
  {
   "cell_type": "code",
   "execution_count": null,
   "metadata": {
    "collapsed": true
   },
   "outputs": [],
   "source": []
  }
 ],
 "metadata": {
  "kernelspec": {
   "display_name": "Python 3",
   "language": "python",
   "name": "python3"
  },
  "language_info": {
   "codemirror_mode": {
    "name": "ipython",
    "version": 3
   },
   "file_extension": ".py",
   "mimetype": "text/x-python",
   "name": "python",
   "nbconvert_exporter": "python",
   "pygments_lexer": "ipython3",
   "version": "3.4.5"
  },
  "widgets": {
   "state": {
    "6419f25305d74730aed077966f700c7e": {
     "views": [
      {
       "cell_index": 3
      }
     ]
    },
    "fb879db40f1a4267984b9187ddfe4e84": {
     "views": [
      {
       "cell_index": 6
      }
     ]
    }
   },
   "version": "1.2.0"
  }
 },
 "nbformat": 4,
 "nbformat_minor": 2
}
