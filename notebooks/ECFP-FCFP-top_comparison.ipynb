{
 "cells": [
  {
   "cell_type": "markdown",
   "metadata": {},
   "source": [
    "# A comparison between ECFP4, FCFP4, and TOP4 fingerprints\n",
    "\n",
    "## Introduction\n",
    "\n",
    "Here we will use the mapper algorithm to compare the spaces defined by ECFP4, FCFP4 and TOP4 fingerprints. We will use the following definitions:\n",
    "\n",
    "- ECFP4: Morgan fingerprint, radius 2\n",
    "- FCFP4: Morgan fingerprint, radius 2, similar functional groups considered the same\n",
    "- TOP4: Morgan fingerprint, radius 2, only using uncolored, unweighted graphs\n",
    "\n",
    "## Loading in Data\n",
    "\n",
    "We will use the "
   ]
  }
 ],
 "metadata": {
  "kernelspec": {
   "display_name": "Python 3",
   "language": "python",
   "name": "python3"
  },
  "language_info": {
   "codemirror_mode": {
    "name": "ipython",
    "version": 3
   },
   "file_extension": ".py",
   "mimetype": "text/x-python",
   "name": "python",
   "nbconvert_exporter": "python",
   "pygments_lexer": "ipython3",
   "version": "3.4.5"
  }
 },
 "nbformat": 4,
 "nbformat_minor": 2
}
